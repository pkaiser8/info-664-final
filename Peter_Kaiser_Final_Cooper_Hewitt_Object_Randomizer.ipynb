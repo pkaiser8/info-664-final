{
  "nbformat": 4,
  "nbformat_minor": 0,
  "metadata": {
    "colab": {
      "provenance": [],
      "authorship_tag": "ABX9TyNErX6Whj5tVR2NBYxlxUcB",
      "include_colab_link": true
    },
    "kernelspec": {
      "name": "python3",
      "display_name": "Python 3"
    },
    "language_info": {
      "name": "python"
    }
  },
  "cells": [
    {
      "cell_type": "markdown",
      "metadata": {
        "id": "view-in-github",
        "colab_type": "text"
      },
      "source": [
        "<a href=\"https://colab.research.google.com/github/pkaiser8/info-664-final/blob/main/Peter_Kaiser_Final_Cooper_Hewitt_Object_Randomizer.ipynb\" target=\"_parent\"><img src=\"https://colab.research.google.com/assets/colab-badge.svg\" alt=\"Open In Colab\"/></a>"
      ]
    },
    {
      "cell_type": "markdown",
      "source": [
        "# Three (or less) Randomized Object Records from the Collection of the Cooper Hewitt, Smithsonian Design Museum"
      ],
      "metadata": {
        "id": "1D4d_lsYlCFE"
      }
    },
    {
      "cell_type": "markdown",
      "source": [
        "## Topic Overview\n",
        "\n",
        "During this course, one of the lessons that inspired me the most was our week exploring the PANDAS dictionary and its use in data analysis and visualization. I was also particularly inspired by [the article](https://www.vam.ac.uk/blog/museum-life/designing-for-serendipity-in-the-museum-surprise-encounters-with-objects-and-stories?srsltid=AfmBOoqqoX16ArOT_GsRIH56p799nD84dScbdqHVQvBzU6L6Adwf0Cb0) about researchers examining how to design for serendipity in the Victoria and Albert Museum’s collections and how we can incorporate chance into navigating and exploring massive institutional collections.\n",
        "\n",
        "I wanted to explore a well-known public database of design objects from the Cooper Hewitt Smithsonian Design Museum. The API section of their collection webpage shows a [spinning wheel](https://apidocs.cooperhewitt.org/explore-the-data/) that randomly selects preselected values for generating an API query, which also inspired me. With the help of the PANDAS dictionary, I wanted to replicate this wheel by writing a program allowing a user to select their keys manually, then let random chance choose the values in those keys and produce three random records that shared those values. The program allows the user to run the code for new results repeatedly, and you rarely get the same set of records twice."
      ],
      "metadata": {
        "id": "8qTl2dnenX4s"
      }
    },
    {
      "cell_type": "markdown",
      "source": [
        "## Challenges\n",
        "\n",
        "The first challenge I faced was the various values cataloged in the CSV file I found on Cooper Hewitt’s GitHub. The variability of data entry indicates that many museum staff catalogers enter data using different approaches and standards over the years. I saw many slightly different but similar values within the keys. I could condense four or five similar-sounding values into singular ones by refining these cells. I specifically focused on keys like “date,” “type,” and “medium.” I hoped these refinements to the data would create more opportunities for my program to discover similar values. However, given the size of this dataset, my brief refinements and transformations might have only scratched the surface.\n",
        "\n",
        "Another challenge I faced was how many keys from the DataFrame to factor into the program. First, having the user choose three keys increases the likelihood that fewer records share three values. By choosing just two, there is more chance the program will discover three records to output.\n",
        "\n",
        "Lastly, the number of key options was too vast, so I decided to curate the list of keys I know will yield some of the best results from the data, given that those keys contain values that are often repeated and don't contain too many unique examples."
      ],
      "metadata": {
        "id": "o2NYGPTang2Q"
      }
    },
    {
      "cell_type": "markdown",
      "source": [
        "## The Program"
      ],
      "metadata": {
        "id": "B3rVgmyFnoOt"
      }
    },
    {
      "cell_type": "markdown",
      "source": [
        "###1. Import dictionaries, establish file path for .CSV datasheet and request user input\n",
        "In this first section, we import the required dictionaries (Pandas and Random) to run our code correctly. We then load my refined dataset linked to the ReadMe file of the [GitHub repository](https://github.com/pkaiser8/info-664-final), which this program is nested in. We then have our loaded DataFrame.\n",
        "\n",
        "Next, we request the user select and input two keys from a curated filtered list of columns in the DataFrame. Then, we use the groupby() method to generate a group from these selections. This feature allows the user to drive their means of random discovery from the data.\n",
        "\n",
        "\n"
      ],
      "metadata": {
        "id": "UzASE61tbvWs"
      }
    },
    {
      "cell_type": "code",
      "source": [
        "import pandas as pd\n",
        "import random\n",
        "\n",
        "# Establish file path for .CSV data sheet:\n",
        "data_filepath = '/content/objects-refined.csv'\n",
        "\n",
        "def load_data(data_filepath):\n",
        "    \"\"\"\n",
        "    Loads data from a CSV file.\n",
        "\n",
        "    Inputs:\n",
        "        data_filepath: The file or URL path to the CSV file.\n",
        "\n",
        "    Returns:\n",
        "        The loaded DataFrame.\n",
        "    \"\"\"\n",
        "\n",
        "    # Read the data from the .CSV defined in data_filepath.\n",
        "    # Use low_memory=False to process entire file at once.\n",
        "    objects_df = pd.read_csv(data_filepath, low_memory=False)\n",
        "\n",
        "    return objects_df\n",
        "\n",
        "def get_user_input(objects_df):\n",
        "  \"\"\"Pulls in user input to establish key selection\n",
        "\n",
        "  Inputs:\n",
        "      objects_df (DataFrame): The loaded DataFrame.\n",
        "      user_selected_key_1 (string), user_selected_key_2 (string): Manually entered user input for key selection.\n",
        "\n",
        "  Returns:\n",
        "      user_input (list): A list of the two user selected keys.\n",
        "  \"\"\"\n",
        "\n",
        "  print(f'Welcome to the Cooper Hewitt, Smithsonian Design Museum collections object randomizer. \\nPlease see below a curated list of keys used to define objects in the collection CSV file:\\n')\n",
        "\n",
        "  # Prints a filtered list of the CSV columns so the user can decide from my curated list of keys to input:\n",
        "  column_list = objects_df.columns.to_list()\n",
        "\n",
        "  curated_keys = ['date', 'decade', 'type', 'medium', 'woe:country_name', 'year_acquired']\n",
        "  filtered_column_list = [column for column in column_list if column in curated_keys]\n",
        "\n",
        "  print(\"Curated keys:\\n\" + \"\\n\".join(f'{column}' for column in filtered_column_list))\n",
        "  print()\n",
        "  print(f'Select which keys you want to pair to randomly find values within them.\\nWith those randomly selected values the program will find three (or less) records that share those common values.\\n')\n",
        "\n",
        "  # User inputted information for each desired key:\n",
        "  user_selected_key_1 = input(f'Please enter one of the keys listed above. It is best to copy and paste everything between the quotes:\\n')\n",
        "  print()\n",
        "\n",
        "  user_selected_key_2 = input(f'Please enter a second key:\\n')\n",
        "  print()\n",
        "\n",
        "  print(f'You have selected \"{user_selected_key_1}\" and \"{user_selected_key_2}\" as your grouped keys.')\n",
        "\n",
        "  # Create a group of with these two user inputted key selections:\n",
        "  user_input = [user_selected_key_1, user_selected_key_2]\n",
        "\n",
        "  return user_input\n",
        "\n",
        "def group_data(data_filepath, user_input):\n",
        "  \"\"\"Loads data from a CSV file and groups it by a specified column.\n",
        "\n",
        "  Inputs:\n",
        "    data_filepath (string): The file or URL path to the CSV file.\n",
        "    user_input (string): The key columns to group the data by.\n",
        "\n",
        "  Returns:\n",
        "    grouped_df (string): The grouped DataFrame.\n",
        "  \"\"\"\n",
        "\n",
        "  # Use the groupby() method to group the rows in the DataFrame\n",
        "  # based on specific values in the two user defined key columns:\n",
        "  grouped_df = objects_df.groupby(user_input)\n",
        "\n",
        "  return grouped_df\n",
        "\n",
        "# Run the functions to get user input for key selection\n",
        "\n",
        "# Load the data:\n",
        "objects_df = load_data(data_filepath)\n",
        "\n",
        "# Get user input:\n",
        "user_input = get_user_input(objects_df)\n",
        "\n",
        "# Apply the grouping:\n",
        "grouped_df = group_data(data_filepath, user_input)"
      ],
      "metadata": {
        "id": "T0nfZXmxVxNu",
        "outputId": "f4be8add-c350-4793-eb86-6f6ee2aeaee4",
        "colab": {
          "base_uri": "https://localhost:8080/"
        }
      },
      "execution_count": 1,
      "outputs": [
        {
          "output_type": "stream",
          "name": "stdout",
          "text": [
            "Welcome to the Cooper Hewitt, Smithsonian Design Museum collections object randomizer. \n",
            "Please see below a curated list of keys used to define objects in the collection CSV file:\n",
            "\n",
            "Curated keys:\n",
            "date\n",
            "decade\n",
            "medium\n",
            "type\n",
            "woe:country_name\n",
            "year_acquired\n",
            "\n",
            "Select which keys you want to pair to randomly find values within them.\n",
            "With those randomly selected values the program will find three (or less) records that share those common values.\n",
            "\n",
            "Please enter one of the keys listed above. It is best to copy and paste everything between the quotes:\n",
            "decade\n",
            "\n",
            "Please enter a second key:\n",
            "woe:country_name\n",
            "\n",
            "You have selected \"decade\" and \"woe:country_name\" as your grouped keys.\n"
          ]
        }
      ]
    },
    {
      "cell_type": "markdown",
      "source": [
        "###2. Selection of random values from grouping and extracting up to three full records\n",
        "\n",
        "Now, with user-selected grouped keys, the program can start extracting random values contained within those grouped keys. The program seeks to pull at most three records (an entire row) from the group by searching for two sets of shared values.\n",
        "\n",
        "_I.e., if both records share a similar randomly selected \"type\" like \"Teacup\" as well as \"date\" such as \"1925\", the program will pull three records that are all Teacups made in 1925._\n",
        "\n",
        "If one grouped value comes up with \"nan\" or a null entry, the printed text will ask the user to rerun the cell or return to the previous cell to reselect two new keys. If the program only finds 1-2 records, it still pulls those records the user can continue with."
      ],
      "metadata": {
        "id": "I8cu_VZlhRAt"
      }
    },
    {
      "cell_type": "code",
      "source": [
        "# This is the ideal number of records the function below should aim to return:\n",
        "num_records = 3\n",
        "\n",
        "def select_random_group_and_records(grouped_df, num_records=3):\n",
        "    \"\"\"Selects a random group and a specified number of random records from that group.\n",
        "\n",
        "    Inputs:\n",
        "        grouped_df: The grouped DataFrame.\n",
        "        num_records (int): The number of records to select. Defaults to 3.\n",
        "\n",
        "    Returns:\n",
        "        tuple: A tuple containing the selected group key and the random records.\n",
        "        selected_group_value: The key of the selected group.\n",
        "        random_records: The randomly selected records.\n",
        "        An error message is printed if no records are found for the selected group.\n",
        "    \"\"\"\n",
        "\n",
        "    # Creates a list of all possible key values from the DataFrame (grouped_df) called group_keys:\n",
        "    group_key_value = list(grouped_df.groups.keys())\n",
        "\n",
        "    # The random method pulls a random choice of values from the group_keys variable above:\n",
        "    selected_group_value = random.choice(group_key_value)\n",
        "\n",
        "    try:\n",
        "        # Using pd get_group() method, extracts whole records\n",
        "        # from the randomized variable selected_group_value\n",
        "        selected_group_records = grouped_df.get_group(selected_group_value)\n",
        "\n",
        "    except KeyError or UnboundLocalError:\n",
        "        # Print an explainer text describing what went wrong if a KeyError occurs:\n",
        "        print(f\"Could not find records since one group value is blank, please run this cell again.\\nYou may also reselect your two keys in the cell above and rerun both cells.\\n\")\n",
        "\n",
        "        return selected_group_value, pd.DataFrame()\n",
        "\n",
        "    # Checks if the number of records fall within selected_group_records\n",
        "    # variable is equal to the desired number of records (num_records):\n",
        "    if len(selected_group_records) >= num_records:\n",
        "        # Selects at most three records from the selected_group:\n",
        "        random_records = selected_group_records.sample(n=num_records)\n",
        "\n",
        "    else:\n",
        "        # If less than three records are found, it will still display what was found:\n",
        "        random_records = selected_group_records\n",
        "\n",
        "    # Returns the selected grouped valued based on user inputted keys and the\n",
        "    # random records that share those randomly selected values in those keys:\n",
        "    return selected_group_value, random_records\n",
        "\n",
        "# Call the functions directly to execute the code\n",
        "\n",
        "grouped_df = group_data(data_filepath, user_input)\n",
        "\n",
        "selected_group_value, random_records = select_random_group_and_records(grouped_df, num_records)\n",
        "\n",
        "print(\"Randomly selected group values based on user selected keys:\\n\")\n",
        "print(f'{user_input[0]} = {selected_group_value[0]}')\n",
        "print(f'{user_input[1]} = {selected_group_value[1]}\\n')\n",
        "if not random_records.empty:\n",
        "  print(\"Randomly Selected Records:\")\n",
        "  print()\n",
        "  print(random_records)"
      ],
      "metadata": {
        "colab": {
          "base_uri": "https://localhost:8080/"
        },
        "id": "PkDJ3JJwiszm",
        "outputId": "659c5cca-921f-4654-afe7-d2fc799f394f"
      },
      "execution_count": 7,
      "outputs": [
        {
          "output_type": "stream",
          "name": "stdout",
          "text": [
            "Randomly selected group values based on user selected keys:\n",
            "\n",
            "decade = 1970.0\n",
            "woe:country_name = Chile\n",
            "\n",
            "Randomly Selected Records:\n",
            "\n",
            "       accession_number         creditline  date  decade  department_id  \\\n",
            "136608        1971-37-1  Gift of Inge Duxi  1970  1970.0       35347501   \n",
            "\n",
            "                                              description  \\\n",
            "136608  Vertical hanging with a cross-like form in bla...   \n",
            "\n",
            "                                      dimensions  dimensions_raw gallery_text  \\\n",
            "136608  H x W: 99 x 57 cm (39 in. x 22 7/16 in.)             NaN          NaN   \n",
            "\n",
            "              id  ...     type     type_id  \\\n",
            "136608  18473111  ...  Hanging  35257233.0   \n",
            "\n",
            "                                                      url videos woe:country  \\\n",
            "136608  https://collection.cooperhewitt.org/objects/18...    NaN  23424782.0   \n",
            "\n",
            "       woe:country_id  woe:country_name year_acquired  year_end  year_start  \n",
            "136608     23424782.0             Chile        1971.0       NaN         NaN  \n",
            "\n",
            "[1 rows x 38 columns]\n"
          ]
        }
      ]
    },
    {
      "cell_type": "markdown",
      "source": [
        "###3. Data Extraction and HTML Table Generation and Display\n",
        "\n",
        "In this final section, we take the variable random_records containing 1-3 complete records generated by the functions above and select specific metadata columns to feed into an HTML table display. The table is formatted using CSS for the preferred look and feel of the information presented in a table format.\n",
        "\n",
        "The following functions format the rows of the table and determine if the 'Image' field contains a proper image. It will default to a Cooper Hewitt logo if it does not. The function also wraps the image URL in a \\<a> tag so the user may click to view a larger version of the image in a new browser tab.\n",
        "\n",
        "The final result is a neatly printed HTML table presenting the image and details of 1-3 randomly selected records based on the user input provided in the first section. The dictionary \"HTML\" is imported from the IPython.display library which helps implement HTML to the Python code."
      ],
      "metadata": {
        "id": "nIwjDmHev6Qo"
      }
    },
    {
      "cell_type": "code",
      "source": [
        "# Import the HTML from IPython.display\n",
        "# Source: https://ipython.readthedocs.io/en/8.26.0/api/generated/IPython.display.html\n",
        "from IPython.display import HTML\n",
        "\n",
        "def extract_record_data(random_records):\n",
        "  \"\"\"Extracts desired metadata from the records and makes a list of dictionaries.\n",
        "  Input:\n",
        "      random_records: The 1-3 randomly selected records from the grouped DataFrame.\n",
        "\n",
        "  Return:\n",
        "      all_records_data: A list of dictionaries containing the desired metadata.\n",
        "  \"\"\"\n",
        "\n",
        "  # Create a list of the disred metadata to be displayed in the HTML table:\n",
        "  all_records_data = []\n",
        "\n",
        "  # Use a loop to clearly define each column in the HTML table display:\n",
        "  for column in random_records.values:\n",
        "    record_data = {\n",
        "        'Image': column[20],\n",
        "        'Title': column[24],\n",
        "        'Date': column[2],\n",
        "        'Medium': column[17],\n",
        "        'Dimensions': column[6],\n",
        "        'Type': column[28],\n",
        "        'Country': column[34],\n",
        "        'Accession Number': column[0]\n",
        "        }\n",
        "    all_records_data.append(record_data)\n",
        "  return all_records_data\n",
        "\n",
        "def create_table_CSS_header():\n",
        "  \"\"\"Creates the HTML table header with some CSS styling.\n",
        "  Input:\n",
        "      None\n",
        "\n",
        "  Return:\n",
        "      table_css_header: CSS styling for the html_table.\n",
        "  \"\"\"\n",
        "\n",
        "  table_css_header = \"\"\"\n",
        "  <table style='border-collapse: separate; border-spacing: 10px; border: 2px solid #ddd;'>\n",
        "    <tr>\n",
        "        <th style='border: 2px dotted #fff; padding: 8px;'>Image</th>\n",
        "        <th style='border: 2px dotted #fff; padding: 8px;'>Title</th>\n",
        "        <th style='border: 2px dotted #fff; padding: 8px;'>Date</th>\n",
        "        <th style='border: 2px dotted #fff; padding: 8px;'>Medium</th>\n",
        "        <th style='border: 2px dotted #fff; padding: 8px;'>Dimensions</th>\n",
        "        <th style='border: 2px dotted #fff; padding: 8px;'>Type</th>\n",
        "        <th style='border: 2px dotted #fff; padding: 8px;'>Country</th>\n",
        "        <th style='border: 2px dotted #fff; padding: 8px;'>Accession Number</th>\n",
        "    </tr>\n",
        "  \"\"\"\n",
        "  return table_css_header\n",
        "\n",
        "def create_html_table_rows(all_records_data):\n",
        "  \"\"\"Creates the HTML table rows with record data.\n",
        "  Input:\n",
        "      all_records_data: A list of dictionaries containing the desired metadata.\n",
        "\n",
        "  Return:\n",
        "      html_rows: HTML table rows with record data.\n",
        "  \"\"\"\n",
        "\n",
        "  html_rows = \"\"\n",
        "  # Generates an HTML table to visually display the data compiled in the \"all_records_data\" list made above\n",
        "  # (1-3 records) stored in all_records_data list defined above:\n",
        "  for record in all_records_data:\n",
        "    # Open the table bracket in the HTML:\n",
        "    html_rows += \"<tr>\"\n",
        "\n",
        "    # Check to see if the record contains a valid image link:\n",
        "    image_link = record['Image'] if 'Image' in record and pd.notna(record['Image']) else 'https://upload.wikimedia.org/wikipedia/commons/thumb/f/fa/Cooper_Hewitt%2C_Smithsonian_Design_Museum_logo.svg/320px-Cooper_Hewitt%2C_Smithsonian_Design_Museum_logo.svg.png'\n",
        "\n",
        "    # Wrap the image in an <a> tag to create a link in the\n",
        "    # image thumbnail to view the full size picture in a separate tab:\n",
        "    html_rows += f\"<td style='border: 1px solid #ddd; padding: 8px;'><a href='{image_link}' target='_blank'><img src='{image_link}' width='100'></a></td>\"\n",
        "\n",
        "    for key, value in record.items():\n",
        "        # Skip 'Image' as it's already handled:\n",
        "        if key != 'Image':\n",
        "            html_rows += f\"<td style='border: 1px solid #ddd; padding: 8px;'>{value}</td>\"\n",
        "\n",
        "    # Close the table bracket in the HTML:\n",
        "    html_rows += \"</tr>\"\n",
        "  return html_rows\n",
        "\n",
        "def generate_html_table(random_records):\n",
        "  \"\"\"Generates the complete HTML table.\n",
        "  Input:\n",
        "      random_records: The 1-3 randomly selected records from the grouped DataFrame.\n",
        "\n",
        "  Return:\n",
        "      html_table: The complete HTML table.\n",
        "  \"\"\"\n",
        "\n",
        "  all_records_data = extract_record_data(random_records)\n",
        "  html_table = create_table_CSS_header()\n",
        "  html_table += create_html_table_rows(all_records_data)\n",
        "  html_table += \"</table>\"\n",
        "  return html_table\n",
        "\n",
        "print(\"Three or less Cooper Hewitt collection objects selected from the database with\\nthe following shared group values under the user selected keys:\\n\")\n",
        "print(f'{user_input[0]} = {selected_group_value[0]}')\n",
        "print(f'{user_input[1]} = {selected_group_value[1]}')\n",
        "print()\n",
        "\n",
        "html_table = generate_html_table(random_records)\n",
        "display(HTML(html_table))"
      ],
      "metadata": {
        "colab": {
          "base_uri": "https://localhost:8080/",
          "height": 614
        },
        "id": "UrRQNuWLkTLE",
        "outputId": "385d9521-0791-4eac-d311-5db2befc86fa"
      },
      "execution_count": null,
      "outputs": [
        {
          "output_type": "stream",
          "name": "stdout",
          "text": [
            "Three or less Cooper Hewitt collection objects selected from the database with\n",
            "the following shared group values under the user selected keys:\n",
            "\n",
            "medium = Block-printed on machine-made paper\n",
            "woe:country_name = United States\n",
            "\n"
          ]
        },
        {
          "output_type": "display_data",
          "data": {
            "text/plain": [
              "<IPython.core.display.HTML object>"
            ],
            "text/html": [
              "\n",
              "  <table style='border-collapse: separate; border-spacing: 10px; border: 2px solid #ddd;'>\n",
              "    <tr>\n",
              "        <th style='border: 2px dotted #fff; padding: 8px;'>Image</th>\n",
              "        <th style='border: 2px dotted #fff; padding: 8px;'>Title</th>\n",
              "        <th style='border: 2px dotted #fff; padding: 8px;'>Date</th>\n",
              "        <th style='border: 2px dotted #fff; padding: 8px;'>Medium</th>\n",
              "        <th style='border: 2px dotted #fff; padding: 8px;'>Dimensions</th>\n",
              "        <th style='border: 2px dotted #fff; padding: 8px;'>Type</th>\n",
              "        <th style='border: 2px dotted #fff; padding: 8px;'>Country</th>\n",
              "        <th style='border: 2px dotted #fff; padding: 8px;'>Accession Number</th>\n",
              "    </tr>\n",
              "  <tr><td style='border: 1px solid #ddd; padding: 8px;'><a href='https://images.collection.cooperhewitt.org/42917_f62903f00e78b64b_z.jpg' target='_blank'><img src='https://images.collection.cooperhewitt.org/42917_f62903f00e78b64b_z.jpg' width='100'></a></td><td style='border: 1px solid #ddd; padding: 8px;'>Sidewall (possibly USA), ca. 1860</td><td style='border: 1px solid #ddd; padding: 8px;'>Ca. 1860</td><td style='border: 1px solid #ddd; padding: 8px;'>Block-printed on machine-made paper</td><td style='border: 1px solid #ddd; padding: 8px;'>Overall: 55 x 48 cm (21 5/8 x 18 7/8 in.)</td><td style='border: 1px solid #ddd; padding: 8px;'>Sidewall</td><td style='border: 1px solid #ddd; padding: 8px;'>United States</td><td style='border: 1px solid #ddd; padding: 8px;'>1998-75-157</td></tr><tr><td style='border: 1px solid #ddd; padding: 8px;'><a href='https://images.collection.cooperhewitt.org/21514_2b54af43c7d1ce69_z.jpg' target='_blank'><img src='https://images.collection.cooperhewitt.org/21514_2b54af43c7d1ce69_z.jpg' width='100'></a></td><td style='border: 1px solid #ddd; padding: 8px;'>Sidewall (United States or England), 1835–45</td><td style='border: 1px solid #ddd; padding: 8px;'>1835–45</td><td style='border: 1px solid #ddd; padding: 8px;'>Block-printed on machine-made paper</td><td style='border: 1px solid #ddd; padding: 8px;'>104.5 x 63.5 cm (41 1/8 x 25 in.)</td><td style='border: 1px solid #ddd; padding: 8px;'>Sidewall</td><td style='border: 1px solid #ddd; padding: 8px;'>United States</td><td style='border: 1px solid #ddd; padding: 8px;'>1976-46-34</td></tr><tr><td style='border: 1px solid #ddd; padding: 8px;'><a href='https://images.collection.cooperhewitt.org/42915_4b3d5f207e7838af_z.jpg' target='_blank'><img src='https://images.collection.cooperhewitt.org/42915_4b3d5f207e7838af_z.jpg' width='100'></a></td><td style='border: 1px solid #ddd; padding: 8px;'>Sidewall (possibly USA), 1850–70</td><td style='border: 1px solid #ddd; padding: 8px;'>1850–70</td><td style='border: 1px solid #ddd; padding: 8px;'>Block-printed on machine-made paper</td><td style='border: 1px solid #ddd; padding: 8px;'>a) Overall: 39.5 x 21 cm (15 9/16 x 8 1/4 in.)\n",
              "b) 24.5 x 29.5 cm</td><td style='border: 1px solid #ddd; padding: 8px;'>Sidewall</td><td style='border: 1px solid #ddd; padding: 8px;'>United States</td><td style='border: 1px solid #ddd; padding: 8px;'>1998-75-161-a,b</td></tr></table>"
            ]
          },
          "metadata": {}
        }
      ]
    },
    {
      "cell_type": "markdown",
      "source": [
        "## Conclusion\n",
        "\n",
        "This program represents a refined and fun version of my minimum viable product. I achieved the desired result early but kept refining and updating the code with streamlined features and more documentation. I wanted the user to control what they want to see by allowing them to select their keys to search by. By allowing them to search all options, the user can discover what combination of keys reveals the best results from the Cooper Hewitt object database.\n",
        "\n",
        "If I keep working on this program, I want the user to be able to discover additional objects collocated above and below the randomly selected objects in the dataset, mimicking the serendipity of discovering assets in a physical archive.\n",
        "\n",
        "Additionally, I would have liked to add a portion to the code to let users save results that they wanted to a CSV in the hopes that they will encounter those objects if they ever visit the Cooper Hewitt Museum in person at a later date."
      ],
      "metadata": {
        "id": "i5KB_Ws9nlHg"
      }
    }
  ]
}