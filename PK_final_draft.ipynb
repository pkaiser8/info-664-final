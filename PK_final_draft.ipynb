{
  "nbformat": 4,
  "nbformat_minor": 0,
  "metadata": {
    "colab": {
      "provenance": [],
      "authorship_tag": "ABX9TyOY3A6+JaHAZmnnYn67lCIE",
      "include_colab_link": true
    },
    "kernelspec": {
      "name": "python3",
      "display_name": "Python 3"
    },
    "language_info": {
      "name": "python"
    }
  },
  "cells": [
    {
      "cell_type": "markdown",
      "metadata": {
        "id": "view-in-github",
        "colab_type": "text"
      },
      "source": [
        "<a href=\"https://colab.research.google.com/github/pkaiser8/info-664-final/blob/main/PK_final_draft.ipynb\" target=\"_parent\"><img src=\"https://colab.research.google.com/assets/colab-badge.svg\" alt=\"Open In Colab\"/></a>"
      ]
    },
    {
      "cell_type": "markdown",
      "source": [
        "# Three (or less) Randomized Records from the Collection of the Cooper Hewitt, Smithsonian Design Museum"
      ],
      "metadata": {
        "id": "1D4d_lsYlCFE"
      }
    },
    {
      "cell_type": "code",
      "source": [
        "# Import third party dictionaries.\n",
        "import pandas as pd\n",
        "import random\n",
        "\n",
        "# Defining variables for the functions:\n",
        "data_filepath = '/content/objects-refined.csv'\n",
        "group_column = [user_selected_key_1, user_selected_key_2] # Creates a group with these two user inputted key selections entered above.\n",
        "\n",
        "def load_and_group_data(data_filepath, group_column):\n",
        "    \"\"\"\n",
        "    Loads data from a CSV file and groups it by a specified column.\n",
        "\n",
        "    Arguments:\n",
        "        data_filepath (string): The file or URL path to the CSV file.\n",
        "        group_column (string): The key columns to group the data by.\n",
        "\n",
        "    Returns:\n",
        "        The grouped DataFrame.\n",
        "    \"\"\"\n",
        "    objects_df = pd.read_csv(data_filepath, low_memory=False) # Read the data from the .CSV defined in data_filepath. Use low_memory=False to process entire file at once\n",
        "    grouped_df = objects_df.groupby(group_column) # Use the groupby() method to group the rows in the DataFrame based on specific values in the two user defined key columns\n",
        "    return grouped_df\n",
        "\n",
        "# Allow the user to define the desired output by selecting from the key columns outlined in the .CSV file used.\n",
        "print(f'Welcome to the Cooper Hewitt, Smithsonian Design Museum collections object randomizer. \\nPlease see below a list of keys used to define objects in the collection .CSV file:\\n')\n",
        "print(objects_df.columns) # Prints the .CSV columns so the user can decide which to use.\n",
        "print()\n",
        "print(f'Select which keys you would like to pair together to randomly find three or less records which share \\ncommon values from these elements.\\nNote: Some key combinations work better than others. See which ones yield the best results\\n')\n",
        "\n",
        "# User inputted information for each desired key\n",
        "user_selected_key_1 = input(f'Please enter one of the keys listed above. Remember to include everything between the quotes:\\n')\n",
        "print()\n",
        "user_selected_key_2 = input(f'Please enter a second key:\\n')\n",
        "print()\n",
        "print(f'You have selected \"{user_selected_key_1}\" and \"{user_selected_key_2}\" as your grouped keys.')"
      ],
      "metadata": {
        "id": "T0nfZXmxVxNu",
        "colab": {
          "base_uri": "https://localhost:8080/"
        },
        "outputId": "37d43459-62a7-4afb-fcb0-58b7d5c85a40"
      },
      "execution_count": 176,
      "outputs": [
        {
          "output_type": "stream",
          "name": "stdout",
          "text": [
            "Welcome to the Cooper Hewitt, Smithsonian Design Museum collections object randomizer. \n",
            "Please see below a list of keys used to define objects in the collection .CSV file:\n",
            "\n",
            "Index(['accession_number', 'creditline', 'date', 'decade', 'department_id',\n",
            "       'description', 'dimensions', 'dimensions_raw', 'gallery_text', 'id',\n",
            "       'inscribed', 'is_active', 'is_loan_object', 'justification',\n",
            "       'label_text', 'markings', 'media_id', 'medium', 'on_display',\n",
            "       'period_id', 'primary_image', 'primary_image2', 'provenance', 'signed',\n",
            "       'title', 'title_raw', 'tms:id', 'tombstone', 'type', 'type_id', 'url',\n",
            "       'videos', 'woe:country', 'woe:country_id', 'woe:country_name',\n",
            "       'year_acquired', 'year_end', 'year_start'],\n",
            "      dtype='object')\n",
            "\n",
            "Select which keys you would like to pair together to randomly find three or less records which share \n",
            "common values from these elements.\n",
            "Note: Some key combinations work better than others. See which ones yield the best results\n",
            "\n",
            "Please enter one of the keys listed above. Remember to include everything between the quotes:\n",
            "date\n",
            "\n",
            "Please enter a second key:\n",
            "woe:country_name\n",
            "\n",
            "You have selected \"date\" and \"woe:country_name\" as your grouped keys.\n"
          ]
        }
      ]
    },
    {
      "cell_type": "code",
      "source": [
        "num_records = 3 # This is the ideal number of records the function below should aim to return\n",
        "\n",
        "def select_random_group_and_records(grouped_df, num_records=3):\n",
        "    \"\"\"\n",
        "    Selects a random group and a specified number of random records from that group.\n",
        "\n",
        "    Args:\n",
        "        grouped_df: The grouped DataFrame.\n",
        "        num_records (int, optional): The number of records to select. Defaults to 3.\n",
        "\n",
        "    Returns:\n",
        "        tuple: A tuple containing the selected group key and the random records.\n",
        "        selected_group_key (string): The key of the selected group.\n",
        "        random_records (DataFrame): The randomly selected records.\n",
        "        An error message is printed if no records are found for the selected group.\n",
        "    \"\"\"\n",
        "    group_keys = list(grouped_df.groups.keys()) # Generates a list of all unique group keys from the DataFrame (grouped_df) and call it group_keys.\n",
        "    selected_group_key = random.choice(group_keys) # Randomly selects a group key to explore its values.\n",
        "\n",
        "    try:\n",
        "        selected_group_records = grouped_df.get_group(selected_group_key) # Extracts whole records belonging to the selected group\n",
        "    except KeyError or UnboundLocalError:\n",
        "        print(f\"Could not find records since one group is blank, please run this cell again.\\nYou may also reselect your two keys in the cell above and rerun both cells.\\n\")\n",
        "        return selected_group_key, pd.DataFrame() # Returns an empty DataFrame if a KeyError occurs (indicating that no records were found)\n",
        "\n",
        "    if len(selected_group_records) >= num_records: # Checks if the group has enough records for the desired sample size.\n",
        "        random_records = selected_group_records.sample(n=num_records) # Randomly selects at most three records from the group.\n",
        "    else:\n",
        "        random_records = selected_group_records #If the group has fewer than three records, return all of them.\n",
        "\n",
        "    return selected_group_key, random_records\n",
        "\n",
        "# Call the functions directly to execute the code\n",
        "grouped_df = load_and_group_data(data_filepath, group_column)\n",
        "selected_group_key, random_records = select_random_group_and_records(grouped_df, num_records)\n",
        "\n",
        "print(\"Selected Group Key:\", selected_group_key)\n",
        "if not random_records.empty:\n",
        "  print(\"Randomly Selected Records:\")\n",
        "  print()\n",
        "  print(random_records)"
      ],
      "metadata": {
        "id": "PkDJ3JJwiszm",
        "colab": {
          "base_uri": "https://localhost:8080/"
        },
        "outputId": "946c4983-bac2-4d77-8e2a-df7e40996ab2"
      },
      "execution_count": 182,
      "outputs": [
        {
          "output_type": "stream",
          "name": "stdout",
          "text": [
            "Selected Group Key: ('1984', 'Japan')\n",
            "Randomly Selected Records:\n",
            "\n",
            "      accession_number                creditline  date  decade  department_id  \\\n",
            "79698        1988-52-6                       NaN  1984  1980.0       35347493   \n",
            "76003        1990-63-1  Gift of NUNO Corporation  1984  1980.0       35347501   \n",
            "76440       1991-166-2   Gift of Yoshiko Ebihara  1984  1980.0       35347493   \n",
            "\n",
            "                                             description  \\\n",
            "79698  Plaza in front of building with a large rounde...   \n",
            "76003  Length of woven fabric with various textures a...   \n",
            "76440                                 Dup. of 1991-166-1   \n",
            "\n",
            "                                      dimensions  dimensions_raw gallery_text  \\\n",
            "79698  H x W: 46 x 71.5 cm (18 1/8 x 28 1/8 in.)             NaN          NaN   \n",
            "76003  H x W: 345.4 x 87.6 cm (136 x 34 1/2 in.)             NaN          NaN   \n",
            "76440                                        NaN             NaN          NaN   \n",
            "\n",
            "             id  ...     type     type_id  \\\n",
            "79698  18628769  ...  Drawing  35237093.0   \n",
            "76003  18634863  ...  Textile  35251739.0   \n",
            "76440  18636029  ...   Poster  35238163.0   \n",
            "\n",
            "                                                     url videos woe:country  \\\n",
            "79698  https://collection.cooperhewitt.org/objects/18...    NaN  23424856.0   \n",
            "76003  https://collection.cooperhewitt.org/objects/18...    NaN  23424856.0   \n",
            "76440  https://collection.cooperhewitt.org/objects/18...    NaN  23424856.0   \n",
            "\n",
            "      woe:country_id  woe:country_name year_acquired  year_end  year_start  \n",
            "79698     23424856.0             Japan        1988.0       NaN         NaN  \n",
            "76003     23424856.0             Japan        1990.0       NaN         NaN  \n",
            "76440     23424856.0             Japan        1991.0       NaN         NaN  \n",
            "\n",
            "[3 rows x 38 columns]\n"
          ]
        }
      ]
    },
    {
      "cell_type": "code",
      "source": [
        "# Create a dictionary entry for each individual record called and compile them into a list\n",
        "\n",
        "all_records_data = []\n",
        "\n",
        "for column in random_records.values:\n",
        "    record_data = {\n",
        "        'Image': column[20],\n",
        "        'Title': column[24],\n",
        "        'Date': column[2],\n",
        "        'Medium': column[17],\n",
        "        'Dimensions': column[6],\n",
        "        'Type': column[28],\n",
        "        'Country': column[34],\n",
        "        'Accession Number': column[0]\n",
        "    }\n",
        "# Appends all 1-3 records to a singular dictionary called all_records_data\n",
        "    all_records_data.append(record_data)"
      ],
      "metadata": {
        "id": "-LYB62cFhKa7"
      },
      "execution_count": 183,
      "outputs": []
    },
    {
      "cell_type": "code",
      "source": [
        "# CSS styling for an HTML table to display all_records_data dictionaries defined above\n",
        "html_table = \"\"\"\n",
        "\n",
        "<table style='border-collapse: separate; border-spacing: 10px; border: 2px solid #ddd;'>\n",
        "    <tr>\n",
        "        <th style='border: 2px dotted #fff; padding: 8px;'>Image</th>\n",
        "        <th style='border: 2px dotted #fff; padding: 8px;'>Title</th>\n",
        "        <th style='border: 2px dotted #fff; padding: 8px;'>Date</th>\n",
        "        <th style='border: 2px dotted #fff; padding: 8px;'>Medium</th>\n",
        "        <th style='border: 2px dotted #fff; padding: 8px;'>Dimensions</th>\n",
        "        <th style='border: 2px dotted #fff; padding: 8px;'>Type</th>\n",
        "        <th style='border: 2px dotted #fff; padding: 8px;'>Country</th>\n",
        "        <th style='border: 2px dotted #fff; padding: 8px;'>Accession Number</th>\n",
        "    </tr>\"\"\"\n",
        "\n",
        "# Generates an HTML table to visually display the data compiled in the \"all_records_data\" list made above\n",
        "# (1-3 records) stored in all_records_data list defined above\n",
        "\n",
        "for record in all_records_data:\n",
        "    html_table += \"<tr>\"\n",
        "\n",
        "    # Check to see if the record contains a valid image link\n",
        "    if 'Image' in record and pd.notna(record['Image']) != False:\n",
        "      image_link = record['Image']\n",
        "    else:\n",
        "      # Use a placeholder image link to Cooper Hewitt logo if the 'Image' value is missing or empty\n",
        "      image_link = 'https://upload.wikimedia.org/wikipedia/commons/thumb/f/fa/Cooper_Hewitt%2C_Smithsonian_Design_Museum_logo.svg/320px-Cooper_Hewitt%2C_Smithsonian_Design_Museum_logo.svg.png'\n",
        "\n",
        "    # Wrap the image in an <a> tag to create a link in the\n",
        "    # image thumbnail to view the full size picture in a separate tab\n",
        "    html_table += f\"<td style='border: 1px solid #ddd; padding: 8px;'><a href='{image_link}' target='_blank'><img src='{image_link}' width='100'></a></td>\"\n",
        "    for key, value in record.items():\n",
        "        if key != 'Image':  # Skip 'Image' as it's already handled\n",
        "            html_table += f\"<td style='border: 1px solid #ddd; padding: 8px;'>{value}</td>\"\n",
        "    html_table += \"</tr>\"\n",
        "\n",
        "# Build the HTML table to display the data, print the groups pulled from selected_group_key variable defined above\n",
        "print(\"Cooper Hewitt collection objects selected from the database with the following shared elements:\")\n",
        "print(f'{group_column[0]} = {selected_group_key[0]}')\n",
        "print(f'{group_column[1]} = {selected_group_key[1]}')\n",
        "print()\n",
        "\n",
        "html_table += \"</table>\"\n",
        "\n",
        "# Import the HTML from IPython.display\n",
        "# Source: https://ipython.readthedocs.io/en/8.26.0/api/generated/IPython.display.html\n",
        "from IPython.display import HTML\n",
        "display(HTML(html_table))"
      ],
      "metadata": {
        "colab": {
          "base_uri": "https://localhost:8080/",
          "height": 701
        },
        "id": "UrRQNuWLkTLE",
        "outputId": "5c185f8b-fccd-4a31-dd32-e6931d1b4e70"
      },
      "execution_count": 184,
      "outputs": [
        {
          "output_type": "stream",
          "name": "stdout",
          "text": [
            "Cooper Hewitt collection objects selected from the database with the following shared elements:\n",
            "date = 1984\n",
            "woe:country_name = Japan\n",
            "\n"
          ]
        },
        {
          "output_type": "display_data",
          "data": {
            "text/plain": [
              "<IPython.core.display.HTML object>"
            ],
            "text/html": [
              "\n",
              "\n",
              "<table style='border-collapse: separate; border-spacing: 10px; border: 2px solid #ddd;'>\n",
              "    <tr>\n",
              "        <th style='border: 2px dotted #fff; padding: 8px;'>Image</th>\n",
              "        <th style='border: 2px dotted #fff; padding: 8px;'>Title</th>\n",
              "        <th style='border: 2px dotted #fff; padding: 8px;'>Date</th>\n",
              "        <th style='border: 2px dotted #fff; padding: 8px;'>Medium</th>\n",
              "        <th style='border: 2px dotted #fff; padding: 8px;'>Dimensions</th>\n",
              "        <th style='border: 2px dotted #fff; padding: 8px;'>Type</th>\n",
              "        <th style='border: 2px dotted #fff; padding: 8px;'>Country</th>\n",
              "        <th style='border: 2px dotted #fff; padding: 8px;'>Accession Number</th>\n",
              "    </tr><tr><td style='border: 1px solid #ddd; padding: 8px;'><a href='https://images.collection.cooperhewitt.org/61669_f60128aa9b881c53_z.jpg' target='_blank'><img src='https://images.collection.cooperhewitt.org/61669_f60128aa9b881c53_z.jpg' width='100'></a></td><td style='border: 1px solid #ddd; padding: 8px;'>Drawing, Synaps Project, Tokyo: Plaza, 1984</td><td style='border: 1px solid #ddd; padding: 8px;'>1984</td><td style='border: 1px solid #ddd; padding: 8px;'>Graphite on white paper</td><td style='border: 1px solid #ddd; padding: 8px;'>H x W: 46 x 71.5 cm (18 1/8 x 28 1/8 in.)</td><td style='border: 1px solid #ddd; padding: 8px;'>Drawing</td><td style='border: 1px solid #ddd; padding: 8px;'>Japan</td><td style='border: 1px solid #ddd; padding: 8px;'>1988-52-6</td></tr><tr><td style='border: 1px solid #ddd; padding: 8px;'><a href='https://images.collection.cooperhewitt.org/43797_11c5e4391d64e6e9_z.jpg' target='_blank'><img src='https://images.collection.cooperhewitt.org/43797_11c5e4391d64e6e9_z.jpg' width='100'></a></td><td style='border: 1px solid #ddd; padding: 8px;'>Textile, Stone Wall, 1984</td><td style='border: 1px solid #ddd; padding: 8px;'>1984</td><td style='border: 1px solid #ddd; padding: 8px;'>Wool, cotton</td><td style='border: 1px solid #ddd; padding: 8px;'>H x W: 345.4 x 87.6 cm (136 x 34 1/2 in.)</td><td style='border: 1px solid #ddd; padding: 8px;'>Textile</td><td style='border: 1px solid #ddd; padding: 8px;'>Japan</td><td style='border: 1px solid #ddd; padding: 8px;'>1990-63-1</td></tr><tr><td style='border: 1px solid #ddd; padding: 8px;'><a href='https://images.collection.cooperhewitt.org/93328_886aa0a7b5226a4a_z.jpg' target='_blank'><img src='https://images.collection.cooperhewitt.org/93328_886aa0a7b5226a4a_z.jpg' width='100'></a></td><td style='border: 1px solid #ddd; padding: 8px;'>Poster, \"From Pushpin to Architecture\", 1984</td><td style='border: 1px solid #ddd; padding: 8px;'>1984</td><td style='border: 1px solid #ddd; padding: 8px;'>Offset lithograph on paper</td><td style='border: 1px solid #ddd; padding: 8px;'>nan</td><td style='border: 1px solid #ddd; padding: 8px;'>Poster</td><td style='border: 1px solid #ddd; padding: 8px;'>Japan</td><td style='border: 1px solid #ddd; padding: 8px;'>1991-166-2</td></tr></table>"
            ]
          },
          "metadata": {}
        }
      ]
    }
  ]
}