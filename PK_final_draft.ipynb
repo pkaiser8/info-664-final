{
  "nbformat": 4,
  "nbformat_minor": 0,
  "metadata": {
    "colab": {
      "provenance": [],
      "authorship_tag": "ABX9TyNz0VqtiW+WOt8IpHiF3mEI",
      "include_colab_link": true
    },
    "kernelspec": {
      "name": "python3",
      "display_name": "Python 3"
    },
    "language_info": {
      "name": "python"
    }
  },
  "cells": [
    {
      "cell_type": "markdown",
      "metadata": {
        "id": "view-in-github",
        "colab_type": "text"
      },
      "source": [
        "<a href=\"https://colab.research.google.com/github/pkaiser8/info-664-final/blob/main/PK_final_draft.ipynb\" target=\"_parent\"><img src=\"https://colab.research.google.com/assets/colab-badge.svg\" alt=\"Open In Colab\"/></a>"
      ]
    },
    {
      "cell_type": "markdown",
      "source": [
        "# Three (or less) Randomized Records from the Collection of the Cooper Hewitt, Smithsonian Design Museum"
      ],
      "metadata": {
        "id": "1D4d_lsYlCFE"
      }
    },
    {
      "cell_type": "code",
      "source": [
        "# Import third party dictionaries:\n",
        "import pandas as pd\n",
        "import random\n",
        "\n",
        "# Establish file path for .CSV data sheet:\n",
        "data_filepath = '/content/objects-refined.csv'\n",
        "\n",
        "def load_data(data_filepath):\n",
        "    \"\"\"\n",
        "    Loads data from a CSV file.\n",
        "\n",
        "    Inputs:\n",
        "        data_filepath: The file or URL path to the CSV file.\n",
        "\n",
        "    Returns:\n",
        "        The loaded DataFrame.\n",
        "    \"\"\"\n",
        "    # Read the data from the .CSV defined in data_filepath.\n",
        "    # Use low_memory=False to process entire file at once.\n",
        "    objects_df = pd.read_csv(data_filepath, low_memory=False)\n",
        "    return objects_df\n",
        "\n",
        "def group_data(data_filepath, group_column):\n",
        "    \"\"\"\n",
        "    Selects a random group and records.\n",
        "\n",
        "    Inputs:\n",
        "        group_column: The key columns to group the data by.\n",
        "\n",
        "    Returns:\n",
        "        The grouped DataFrame.\n",
        "    \"\"\"\n",
        "    # Use the groupby() method to group the rows in\n",
        "    # the DataFrame based on specific values in the two user defined key columns\n",
        "    grouped_df = objects_df.groupby(group_column)\n",
        "    return grouped_df\n",
        "\n",
        "def get_user_input(objects_df):\n",
        "  \"\"\"Pulls in user input to establish key selection\"\"\"\n",
        "  # Allow the user to define the desired output by selecting from the key columns outlined in the .CSV file used:\n",
        "  print(f'Welcome to the Cooper Hewitt, Smithsonian Design Museum collections object randomizer. \\nPlease see below a list of keys used to define objects in the collection .CSV file:\\n')\n",
        "  # Prints the .CSV columns so the user can decide which to input:\n",
        "  print(objects_df.columns)\n",
        "  print()\n",
        "  print(f'Select which keys you would like to pair together to randomly find three or less records which share \\ncommon values from these elements.\\nNote: Some key combinations work better than others. See which ones yield the best results\\n')\n",
        "\n",
        "  # User inputted information for each desired key:\n",
        "  user_selected_key_1 = input(f'Please enter one of the keys listed above. Remember to include everything between the quotes:\\n')\n",
        "  print()\n",
        "  user_selected_key_2 = input(f'Please enter a second key:\\n')\n",
        "  print()\n",
        "  print(f'You have selected \"{user_selected_key_1}\" and \"{user_selected_key_2}\" as your grouped keys.')\n",
        "  return user_selected_key_1, user_selected_key_2\n",
        "\n",
        "# Run the functions to get user input for key selection\n",
        "user_selected_key_1, user_selected_key_2 = get_user_input(objects_df)\n",
        "group_column = [user_selected_key_1, user_selected_key_2]"
      ],
      "metadata": {
        "id": "T0nfZXmxVxNu",
        "colab": {
          "base_uri": "https://localhost:8080/"
        },
        "outputId": "cf7cb8a5-ba47-47f2-d31a-2f5ba1d5fc13"
      },
      "execution_count": null,
      "outputs": [
        {
          "output_type": "stream",
          "name": "stdout",
          "text": [
            "Welcome to the Cooper Hewitt, Smithsonian Design Museum collections object randomizer. \n",
            "Please see below a list of keys used to define objects in the collection .CSV file:\n",
            "\n",
            "Index(['accession_number', 'creditline', 'date', 'decade', 'department_id',\n",
            "       'description', 'dimensions', 'dimensions_raw', 'gallery_text', 'id',\n",
            "       'inscribed', 'is_active', 'is_loan_object', 'justification',\n",
            "       'label_text', 'markings', 'media_id', 'medium', 'on_display',\n",
            "       'period_id', 'primary_image', 'primary_image2', 'provenance', 'signed',\n",
            "       'title', 'title_raw', 'tms:id', 'tombstone', 'type', 'type_id', 'url',\n",
            "       'videos', 'woe:country', 'woe:country_id', 'woe:country_name',\n",
            "       'year_acquired', 'year_end', 'year_start'],\n",
            "      dtype='object')\n",
            "\n",
            "Select which keys you would like to pair together to randomly find three or less records which share \n",
            "common values from these elements.\n",
            "Note: Some key combinations work better than others. See which ones yield the best results\n",
            "\n"
          ]
        }
      ]
    },
    {
      "cell_type": "code",
      "source": [
        "# This is the ideal number of records the functions below should aim to return:\n",
        "num_records = 3\n",
        "\n",
        "def select_random_group(grouped_df, num_records=3):\n",
        "  \"\"\"\n",
        "  Selects a random group key from the grouped DataFrame\n",
        "\n",
        "  Inputs:\n",
        "    grouped_df: The grouped DataFrame.\n",
        "    num_records (int, optional): The number of records to select. Defaults to 3.\n",
        "\n",
        "  Returns:\n",
        "    tuple: A tuple containing the selected group key and the random records.\n",
        "    selected_group_key (string): The key of the selected group.\n",
        "    random_records (DataFrame): The randomly selected records.\n",
        "    An error message is printed if no records are found for the selected group.\n",
        "  \"\"\"\n",
        "  # Generates a list of all unique group keys\n",
        "  # from the DataFrame (grouped_df) and call it group_keys:\n",
        "  group_keys = list(grouped_df.groups.keys())\n",
        "  # Randomly selects a group key to explore its values:\n",
        "  selected_group_key = random.choice(group_keys)\n",
        "  return selected_group_key\n",
        "\n",
        "def select_random_records(grouped_df, num_records=3):\n",
        "  \"\"\"\n",
        "  Selects a specified number of random records (up to 3) from the given group.\n",
        "\n",
        "  Input:\n",
        "      grouped_df: The grouped DataFrame.\n",
        "      selected_group_key: The key of the selected group.\n",
        "      num_records (int, optional): The number of records to select. Defaults to 3.\n",
        "\n",
        "  Returns:\n",
        "      tuple: A tuple containing the selected group key and the random records.\n",
        "  \"\"\"\n",
        "  try:\n",
        "    selected_group_records = grouped_df.get_group(selected_group_key) # Extracts whole records belonging to the selected group\n",
        "  except KeyError or UnboundLocalError:\n",
        "    print(f\"Could not find records since one group is blank, please run this cell again.\\nYou may also reselect your two keys in the cell above and rerun both cells.\\n\")\n",
        "    return pd.DataFrame() # Returns an empty DataFrame if a KeyError occurs (indicating that no records were found)\n",
        "\n",
        "  if len(selected_group_records) >= num_records: # Checks if the group has enough records for the desired sample size.\n",
        "    random_records = selected_group_records.sample(n=num_records) # Randomly selects at most three records from the group.\n",
        "  else:\n",
        "    random_records = selected_group_records #If the group has fewer than three records, return all of them.\n",
        "\n",
        "  return random_records\n",
        "\n",
        "# Call the function to get the selected group key\n",
        "#selected_group_key = select_random_records(grouped_df)\n",
        "\n",
        "# Call the function to get the random records using the selected group key\n",
        "# and assign it to random_records\n",
        "#random_records = select_random_records(grouped_df, num_records)\n",
        "\n",
        "#grouped_df = load_and_group_data(data_filepath, group_column)\n",
        "\n",
        "# Call select_random_andrecords\n",
        "#selected_group_key = select_random_records(grouped_df)\n",
        "\n",
        "selected_group_key = select_random_group(grouped_df)\n",
        "random_records = select_random_records(grouped_df, num_records)\n",
        "\n",
        "print(\"Selected Group Key:\", selected_group_key)\n",
        "if not random_records.empty:\n",
        "  print(\"Randomly Selected Records:\")\n",
        "  print()\n",
        "  print(random_records)"
      ],
      "metadata": {
        "id": "PkDJ3JJwiszm",
        "colab": {
          "base_uri": "https://localhost:8080/"
        },
        "outputId": "7a6deafa-eb6a-48f7-e887-ddb9b9b61887"
      },
      "execution_count": 284,
      "outputs": [
        {
          "output_type": "stream",
          "name": "stdout",
          "text": [
            "Selected Group Key: ('Fragment', 'Germany')\n",
            "Randomly Selected Records:\n",
            "\n",
            "       accession_number                     creditline               date  \\\n",
            "111828       1902-1-886   Gift of John Pierpont Morgan  13th–14th century   \n",
            "148274       1956-201-1  Gift of John Davis Hatch, Jr.       17th century   \n",
            "116411       1902-1-932   Gift of John Pierpont Morgan  13th–15th century   \n",
            "\n",
            "        decade  department_id  \\\n",
            "111828     NaN       35347501   \n",
            "148274     NaN       35347501   \n",
            "116411     NaN       35347501   \n",
            "\n",
            "                                              description  \\\n",
            "111828  Fragment of printed linen with twining lizard-...   \n",
            "148274  Damask with a stylized floral border surroundi...   \n",
            "116411  Repeating pattern in silver printed on a deep ...   \n",
            "\n",
            "                                               dimensions  dimensions_raw  \\\n",
            "111828           H x W: 35 x 22.2 cm (13 3/4 x 8 3/4 in.)             NaN   \n",
            "148274  Warp x Weft: 182 x 69 cm (5 ft. 11 5/8 in. x 2...             NaN   \n",
            "116411           H x W: 27.6 x 20 cm (10 7/8 x 7 7/8 in.)             NaN   \n",
            "\n",
            "       gallery_text        id  ...      type     type_id  \\\n",
            "111828          NaN  18133741  ...  Fragment  35254623.0   \n",
            "148274          NaN  18408979  ...  Fragment  35254623.0   \n",
            "116411          NaN  18134053  ...  Fragment  35254623.0   \n",
            "\n",
            "                                                      url videos woe:country  \\\n",
            "111828  https://collection.cooperhewitt.org/objects/18...    NaN  23424829.0   \n",
            "148274  https://collection.cooperhewitt.org/objects/18...    NaN  23424829.0   \n",
            "116411  https://collection.cooperhewitt.org/objects/18...    NaN  23424829.0   \n",
            "\n",
            "       woe:country_id  woe:country_name year_acquired  year_end  year_start  \n",
            "111828     23424829.0           Germany        1902.0       NaN         NaN  \n",
            "148274     23424829.0           Germany        1956.0       NaN         NaN  \n",
            "116411     23424829.0           Germany        1902.0       NaN         NaN  \n",
            "\n",
            "[3 rows x 38 columns]\n"
          ]
        }
      ]
    },
    {
      "cell_type": "code",
      "source": [
        "# Create a dictionary entry for each individual record called and compile them into a list\n",
        "\n",
        "all_records_data = []\n",
        "for column in random_records.values:\n",
        "    record_data = {\n",
        "        'Image': column[20],\n",
        "        'Title': column[24],\n",
        "        'Date': column[2],\n",
        "        'Medium': column[17],\n",
        "        'Dimensions': column[6],\n",
        "        'Type': column[28],\n",
        "        'Country': column[34],\n",
        "        'Accession Number': column[0]\n",
        "    }\n",
        "# Appends all 1-3 records to a singular dictionary called all_records_data\n",
        "    all_records_data.append(record_data)"
      ],
      "metadata": {
        "id": "-LYB62cFhKa7"
      },
      "execution_count": 285,
      "outputs": []
    },
    {
      "cell_type": "code",
      "source": [
        "def generate_html_table(random_records):\n",
        "  \"\"\"Generates an HTML table to visually display\"\"\"\n",
        "\n",
        "  all_records_data = []\n",
        "  for column in random_records.values:\n",
        "    record_data = {\n",
        "        'Image': column[20],\n",
        "        'Title': column[24],\n",
        "        'Date': column[2],\n",
        "        'Medium': column[17],\n",
        "        'Dimensions': column[6],\n",
        "        'Type': column[28],\n",
        "        'Country': column[34],\n",
        "        'Accession Number': column[0]\n",
        "        }\n",
        "    all_records_data.append(record_data)\n",
        "\n",
        "  # Build an HTML table, starting with the CSS:\n",
        "  html_table = \"\"\"\n",
        "  <table style='border-collapse: separate; border-spacing: 10px; border: 2px solid #ddd;'>\n",
        "    <tr>\n",
        "        <th style='border: 2px dotted #fff; padding: 8px;'>Image</th>\n",
        "        <th style='border: 2px dotted #fff; padding: 8px;'>Title</th>\n",
        "        <th style='border: 2px dotted #fff; padding: 8px;'>Date</th>\n",
        "        <th style='border: 2px dotted #fff; padding: 8px;'>Medium</th>\n",
        "        <th style='border: 2px dotted #fff; padding: 8px;'>Dimensions</th>\n",
        "        <th style='border: 2px dotted #fff; padding: 8px;'>Type</th>\n",
        "        <th style='border: 2px dotted #fff; padding: 8px;'>Country</th>\n",
        "        <th style='border: 2px dotted #fff; padding: 8px;'>Accession Number</th>\n",
        "    </tr>\n",
        "  \"\"\"\n",
        "\n",
        "  # Generates an HTML table to visually display the data compiled in the \"all_records_data\" list made above\n",
        "  # (1-3 records) stored in all_records_data list defined above\n",
        "\n",
        "  for record in all_records_data:\n",
        "    html_table += \"<tr>\"\n",
        "    # Check to see if the record contains a valid image link\n",
        "    if 'Image' in record and pd.notna(record['Image']) != False:\n",
        "      image_link = record['Image']\n",
        "    else:\n",
        "      # Use a placeholder image link to Cooper Hewitt logo if the 'Image' value is missing or empty\n",
        "      image_link = 'https://upload.wikimedia.org/wikipedia/commons/thumb/f/fa/Cooper_Hewitt%2C_Smithsonian_Design_Museum_logo.svg/320px-Cooper_Hewitt%2C_Smithsonian_Design_Museum_logo.svg.png'\n",
        "\n",
        "    # Wrap the image in an <a> tag to create a link in the\n",
        "    # image thumbnail to view the full size picture in a separate tab\n",
        "    html_table += f\"<td style='border: 1px solid #ddd; padding: 8px;'><a href='{image_link}' target='_blank'><img src='{image_link}' width='100'></a></td>\"\n",
        "    for key, value in record.items():\n",
        "        if key != 'Image':  # Skip 'Image' as it's already handled\n",
        "            html_table += f\"<td style='border: 1px solid #ddd; padding: 8px;'>{value}</td>\"\n",
        "    html_table += \"</tr>\"\n",
        "\n",
        "  html_table += \"</table>\"\n",
        "  return html_table\n",
        "\n",
        "# Import the HTML from IPython.display\n",
        "# Source: https://ipython.readthedocs.io/en/8.26.0/api/generated/IPython.display.html\n",
        "from IPython.display import HTML\n",
        "html_table = generate_html_table(random_records)\n",
        "display(HTML(html_table))"
      ],
      "metadata": {
        "colab": {
          "base_uri": "https://localhost:8080/",
          "height": 628
        },
        "id": "UrRQNuWLkTLE",
        "outputId": "c872e73f-2c09-4ca3-e0d4-67947a5b7da4"
      },
      "execution_count": 297,
      "outputs": [
        {
          "output_type": "display_data",
          "data": {
            "text/plain": [
              "<IPython.core.display.HTML object>"
            ],
            "text/html": [
              "\n",
              "  <table style='border-collapse: separate; border-spacing: 10px; border: 2px solid #ddd;'>\n",
              "    <tr>\n",
              "        <th style='border: 2px dotted #fff; padding: 8px;'>Image</th>\n",
              "        <th style='border: 2px dotted #fff; padding: 8px;'>Title</th>\n",
              "        <th style='border: 2px dotted #fff; padding: 8px;'>Date</th>\n",
              "        <th style='border: 2px dotted #fff; padding: 8px;'>Medium</th>\n",
              "        <th style='border: 2px dotted #fff; padding: 8px;'>Dimensions</th>\n",
              "        <th style='border: 2px dotted #fff; padding: 8px;'>Type</th>\n",
              "        <th style='border: 2px dotted #fff; padding: 8px;'>Country</th>\n",
              "        <th style='border: 2px dotted #fff; padding: 8px;'>Accession Number</th>\n",
              "    </tr>\n",
              "  <tr><td style='border: 1px solid #ddd; padding: 8px;'><a href='https://images.collection.cooperhewitt.org/46220_4a5fa9f76c8e2377_z.jpg' target='_blank'><img src='https://images.collection.cooperhewitt.org/46220_4a5fa9f76c8e2377_z.jpg' width='100'></a></td><td style='border: 1px solid #ddd; padding: 8px;'>Fragment (Germany), 13th–14th century</td><td style='border: 1px solid #ddd; padding: 8px;'>13th–14th century</td><td style='border: 1px solid #ddd; padding: 8px;'>Linen</td><td style='border: 1px solid #ddd; padding: 8px;'>H x W: 35 x 22.2 cm (13 3/4 x 8 3/4 in.)</td><td style='border: 1px solid #ddd; padding: 8px;'>Fragment</td><td style='border: 1px solid #ddd; padding: 8px;'>Germany</td><td style='border: 1px solid #ddd; padding: 8px;'>1902-1-886</td></tr><tr><td style='border: 1px solid #ddd; padding: 8px;'><a href='https://images.collection.cooperhewitt.org/33167_7f36b9ff4ac0ba52_z.jpg' target='_blank'><img src='https://images.collection.cooperhewitt.org/33167_7f36b9ff4ac0ba52_z.jpg' width='100'></a></td><td style='border: 1px solid #ddd; padding: 8px;'>Fragment (Germany), 17th century</td><td style='border: 1px solid #ddd; padding: 8px;'>17th century</td><td style='border: 1px solid #ddd; padding: 8px;'>Linen</td><td style='border: 1px solid #ddd; padding: 8px;'>Warp x Weft: 182 x 69 cm (5 ft. 11 5/8 in. x 27 3/16 in.)</td><td style='border: 1px solid #ddd; padding: 8px;'>Fragment</td><td style='border: 1px solid #ddd; padding: 8px;'>Germany</td><td style='border: 1px solid #ddd; padding: 8px;'>1956-201-1</td></tr><tr><td style='border: 1px solid #ddd; padding: 8px;'><a href='https://images.collection.cooperhewitt.org/46221_0c63c4cc43aaebd0_z.jpg' target='_blank'><img src='https://images.collection.cooperhewitt.org/46221_0c63c4cc43aaebd0_z.jpg' width='100'></a></td><td style='border: 1px solid #ddd; padding: 8px;'>Fragment (Germany), 13th–15th century</td><td style='border: 1px solid #ddd; padding: 8px;'>13th–15th century</td><td style='border: 1px solid #ddd; padding: 8px;'>Linen, tin</td><td style='border: 1px solid #ddd; padding: 8px;'>H x W: 27.6 x 20 cm (10 7/8 x 7 7/8 in.)</td><td style='border: 1px solid #ddd; padding: 8px;'>Fragment</td><td style='border: 1px solid #ddd; padding: 8px;'>Germany</td><td style='border: 1px solid #ddd; padding: 8px;'>1902-1-932</td></tr></table>"
            ]
          },
          "metadata": {}
        }
      ]
    }
  ]
}